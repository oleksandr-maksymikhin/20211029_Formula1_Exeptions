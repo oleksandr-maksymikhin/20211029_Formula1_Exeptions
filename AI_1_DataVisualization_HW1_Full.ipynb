{
  "cells": [
    {
      "cell_type": "markdown",
      "metadata": {
        "id": "view-in-github",
        "colab_type": "text"
      },
      "source": [
        "<a href=\"https://colab.research.google.com/github/oleksandr-maksymikhin/20211029_Formula1_Exeptions/blob/master/AI_1_DataVisualization_HW1_Full.ipynb\" target=\"_parent\"><img src=\"https://colab.research.google.com/assets/colab-badge.svg\" alt=\"Open In Colab\"/></a>"
      ]
    },
    {
      "cell_type": "code",
      "execution_count": null,
      "metadata": {
        "id": "Zl7nTsvvADLn"
      },
      "outputs": [],
      "source": [
        "# MIT License\n",
        "#\n",
        "# @title Copyright (c) 2025 Ana Trisovic { display-mode: \"form\" }\n",
        "\n",
        "# Permission is hereby granted, free of charge, to any person obtaining a\n",
        "# copy of this software and associated documentation files (the \"Software\"),\n",
        "# to deal in the Software without restriction, including without limitation\n",
        "# the rights to use, copy, modify, merge, publish, distribute, sublicense,\n",
        "# and/or sell copies of the Software, and to permit persons to whom the\n",
        "# Software is furnished to do so, subject to the following conditions:\n",
        "#\n",
        "# The above copyright notice and this permission notice shall be included in\n",
        "# all copies or substantial portions of the Software.\n",
        "#\n",
        "# THE SOFTWARE IS PROVIDED \"AS IS\", WITHOUT WARRANTY OF ANY KIND, EXPRESS OR\n",
        "# IMPLIED, INCLUDING BUT NOT LIMITED TO THE WARRANTIES OF MERCHANTABILITY,\n",
        "# FITNESS FOR A PARTICULAR PURPOSE AND NONINFRINGEMENT. IN NO EVENT SHALL\n",
        "# THE AUTHORS OR COPYRIGHT HOLDERS BE LIABLE FOR ANY CLAIM, DAMAGES OR OTHER\n",
        "# LIABILITY, WHETHER IN AN ACTION OF CONTRACT, TORT OR OTHERWISE, ARISING\n",
        "# FROM, OUT OF OR IN CONNECTION WITH THE SOFTWARE OR THE USE OR OTHER\n",
        "# DEALINGS IN THE SOFTWARE."
      ]
    },
    {
      "cell_type": "markdown",
      "metadata": {
        "id": "RMgExOmAADLo"
      },
      "source": [
        "# Welcome to the UAI Course on Effective Data Visualization"
      ]
    },
    {
      "cell_type": "markdown",
      "metadata": {
        "id": "P8tvRZyBADLp"
      },
      "source": [
        "## Part I: Exploring Categorical and Time Series Data\n",
        "\n",
        "<small>Expected completion time: 30 minutes</small>\n",
        "\n",
        "### Ana Trisovic\n",
        "\n",
        "### Quick Overview\n",
        "\n",
        "This assignment reviews the foundational concepts of data visualization in Python and provides hands-on experience with key techniques for exploring data trends. You'll learn how to create and customize common chart types—like pie charts, line plots, and bar graphs—using libraries such as `matplotlib` and `seaborn`.\n",
        "\n",
        "Through multiple examples, we emphasize not just how to visualize data, but also how to enhance visual appeal and clarity using styles, color palettes, and layout customization. By the end, you’ll be comfortable building aesthetically pleasing and insightful charts from scratch.\n",
        "\n",
        "<small>See also:</small>\n",
        "- <small>Previous</small>\n",
        "- <small>Next</small>\n",
        "\n",
        "## Getting Started: Software Prerequisites & Setup\n",
        "\n",
        "### 📦 Package Requirements\n",
        "\n",
        "In this course, we'll be working with three essential Python libraries for data visualization These packages serve distinct and complementary purposes:\n",
        "\n",
        "- **Pandas**: for handling and manipulating structured datasets.\n",
        "- **Matplotlib**: the foundational plotting library for Python, offering fine-grained control over plots.\n",
        "- **Seaborn**: built on top of Matplotlib, it provides a high-level interface for creating attractive and informative statistical graphics.\n",
        "\n",
        "### 🛠 Installation\n",
        "\n",
        "If these packages are not already installed in your environment, you can install them using `pip`\n",
        "\n",
        "💬 You may see a warning or version compatibility notice (especially in environments like Google Colab). As long as the core functionality works, these can typically be ignored."
      ]
    },
    {
      "cell_type": "code",
      "execution_count": null,
      "metadata": {
        "id": "PkAQstEfADLp"
      },
      "outputs": [],
      "source": [
        "# !pip install seaborn pandas matplotlib"
      ]
    },
    {
      "cell_type": "code",
      "execution_count": null,
      "metadata": {
        "id": "IX-04JFBADLp"
      },
      "outputs": [],
      "source": [
        "import pandas as pd\n",
        "import seaborn as sns\n",
        "import matplotlib.pyplot as plt\n",
        "\n",
        "sns.set_context(\"talk\")"
      ]
    },
    {
      "cell_type": "markdown",
      "metadata": {
        "id": "0baZ4eBYADLp"
      },
      "source": [
        "### Basic Plots (Bar Chart, Pie Chart, Line Chart)\n",
        "\n",
        "Here’s a quick overview of **basic plot types** used in data visualization, with common use cases and distinguishing features."
      ]
    },
    {
      "cell_type": "markdown",
      "metadata": {
        "id": "xDrxDgmRADLp"
      },
      "source": [
        "## 2023 PEW RESEARCH CENTER NPORS INTERNET TOPLINE\n",
        "\n",
        "\n",
        "To better understand Americans’ social media use, Pew Research Center surveyed 5,733 U.S. adults from May 19 to Sept. 5, 2023. Ipsos conducted this National Public Opinion Reference Survey (NPORS) for the Center using address-based sampling and a multimode protocol that included both web and mail. This way nearly all U.S. adults have a chance of selection. The survey is weighted to be representative of the U.S. adult population by gender, race and ethnicity, education and other categories.\n",
        "\n",
        "A note on terminology: Our May-September 2023 survey was already in the field when Twitter changed its name to “X.” The terms Twitter and X are both used in this report to refer to the same platform.\n",
        "\n",
        "The full report is available [here](https://www.pewresearch.org/internet/wp-content/uploads/sites/9/2024/01/PI_2024.01.31_Social-Media-use_report.pdf)."
      ]
    },
    {
      "cell_type": "markdown",
      "metadata": {
        "id": "CEuiR2-zADLp"
      },
      "source": [
        "## 📊 1. **Bar Chart**\n",
        "Let's now create bar charts, which can be very useful:\n",
        "- **Use for:** Comparing quantities across categories.\n",
        "- **Variations:** Vertical (column) or horizontal bars.\n",
        "- **Best for:** Discrete data like sales by region, population by country."
      ]
    },
    {
      "cell_type": "markdown",
      "source": [
        "### Task 1\n",
        "Run the code below to read in the file `Social_Media_Usage_-_May_to_Sep_2023.csv` as a DataFrame using Pandas. We use the `.head()` function to take a look at the first few rows of the DataFrame."
      ],
      "metadata": {
        "id": "YSF8uDC0CCm0"
      }
    },
    {
      "cell_type": "code",
      "execution_count": null,
      "metadata": {
        "id": "d_DR3_mjADLp",
        "colab": {
          "base_uri": "https://localhost:8080/",
          "height": 206
        },
        "outputId": "474b575e-2f8c-450e-b50a-e9afd9928a64"
      },
      "outputs": [
        {
          "output_type": "execute_result",
          "data": {
            "text/plain": [
              "      Platform  Yes, use this  No, don't use this  No answer    Month  Year\n",
              "0     Facebook             71                  27          1  May-Sep  2023\n",
              "1      YouTube             87                  12          1  May-Sep  2023\n",
              "2  Twitter (X)             23                  74          3  May-Sep  2023\n",
              "3    Instagram             49                  49          2  May-Sep  2023\n",
              "4     Snapchat             28                  69          3  May-Sep  2023"
            ],
            "text/html": [
              "\n",
              "  <div id=\"df-0abbe4ca-07dc-44ba-8767-3fc353c66eb0\" class=\"colab-df-container\">\n",
              "    <div>\n",
              "<style scoped>\n",
              "    .dataframe tbody tr th:only-of-type {\n",
              "        vertical-align: middle;\n",
              "    }\n",
              "\n",
              "    .dataframe tbody tr th {\n",
              "        vertical-align: top;\n",
              "    }\n",
              "\n",
              "    .dataframe thead th {\n",
              "        text-align: right;\n",
              "    }\n",
              "</style>\n",
              "<table border=\"1\" class=\"dataframe\">\n",
              "  <thead>\n",
              "    <tr style=\"text-align: right;\">\n",
              "      <th></th>\n",
              "      <th>Platform</th>\n",
              "      <th>Yes, use this</th>\n",
              "      <th>No, don't use this</th>\n",
              "      <th>No answer</th>\n",
              "      <th>Month</th>\n",
              "      <th>Year</th>\n",
              "    </tr>\n",
              "  </thead>\n",
              "  <tbody>\n",
              "    <tr>\n",
              "      <th>0</th>\n",
              "      <td>Facebook</td>\n",
              "      <td>71</td>\n",
              "      <td>27</td>\n",
              "      <td>1</td>\n",
              "      <td>May-Sep</td>\n",
              "      <td>2023</td>\n",
              "    </tr>\n",
              "    <tr>\n",
              "      <th>1</th>\n",
              "      <td>YouTube</td>\n",
              "      <td>87</td>\n",
              "      <td>12</td>\n",
              "      <td>1</td>\n",
              "      <td>May-Sep</td>\n",
              "      <td>2023</td>\n",
              "    </tr>\n",
              "    <tr>\n",
              "      <th>2</th>\n",
              "      <td>Twitter (X)</td>\n",
              "      <td>23</td>\n",
              "      <td>74</td>\n",
              "      <td>3</td>\n",
              "      <td>May-Sep</td>\n",
              "      <td>2023</td>\n",
              "    </tr>\n",
              "    <tr>\n",
              "      <th>3</th>\n",
              "      <td>Instagram</td>\n",
              "      <td>49</td>\n",
              "      <td>49</td>\n",
              "      <td>2</td>\n",
              "      <td>May-Sep</td>\n",
              "      <td>2023</td>\n",
              "    </tr>\n",
              "    <tr>\n",
              "      <th>4</th>\n",
              "      <td>Snapchat</td>\n",
              "      <td>28</td>\n",
              "      <td>69</td>\n",
              "      <td>3</td>\n",
              "      <td>May-Sep</td>\n",
              "      <td>2023</td>\n",
              "    </tr>\n",
              "  </tbody>\n",
              "</table>\n",
              "</div>\n",
              "    <div class=\"colab-df-buttons\">\n",
              "\n",
              "  <div class=\"colab-df-container\">\n",
              "    <button class=\"colab-df-convert\" onclick=\"convertToInteractive('df-0abbe4ca-07dc-44ba-8767-3fc353c66eb0')\"\n",
              "            title=\"Convert this dataframe to an interactive table.\"\n",
              "            style=\"display:none;\">\n",
              "\n",
              "  <svg xmlns=\"http://www.w3.org/2000/svg\" height=\"24px\" viewBox=\"0 -960 960 960\">\n",
              "    <path d=\"M120-120v-720h720v720H120Zm60-500h600v-160H180v160Zm220 220h160v-160H400v160Zm0 220h160v-160H400v160ZM180-400h160v-160H180v160Zm440 0h160v-160H620v160ZM180-180h160v-160H180v160Zm440 0h160v-160H620v160Z\"/>\n",
              "  </svg>\n",
              "    </button>\n",
              "\n",
              "  <style>\n",
              "    .colab-df-container {\n",
              "      display:flex;\n",
              "      gap: 12px;\n",
              "    }\n",
              "\n",
              "    .colab-df-convert {\n",
              "      background-color: #E8F0FE;\n",
              "      border: none;\n",
              "      border-radius: 50%;\n",
              "      cursor: pointer;\n",
              "      display: none;\n",
              "      fill: #1967D2;\n",
              "      height: 32px;\n",
              "      padding: 0 0 0 0;\n",
              "      width: 32px;\n",
              "    }\n",
              "\n",
              "    .colab-df-convert:hover {\n",
              "      background-color: #E2EBFA;\n",
              "      box-shadow: 0px 1px 2px rgba(60, 64, 67, 0.3), 0px 1px 3px 1px rgba(60, 64, 67, 0.15);\n",
              "      fill: #174EA6;\n",
              "    }\n",
              "\n",
              "    .colab-df-buttons div {\n",
              "      margin-bottom: 4px;\n",
              "    }\n",
              "\n",
              "    [theme=dark] .colab-df-convert {\n",
              "      background-color: #3B4455;\n",
              "      fill: #D2E3FC;\n",
              "    }\n",
              "\n",
              "    [theme=dark] .colab-df-convert:hover {\n",
              "      background-color: #434B5C;\n",
              "      box-shadow: 0px 1px 3px 1px rgba(0, 0, 0, 0.15);\n",
              "      filter: drop-shadow(0px 1px 2px rgba(0, 0, 0, 0.3));\n",
              "      fill: #FFFFFF;\n",
              "    }\n",
              "  </style>\n",
              "\n",
              "    <script>\n",
              "      const buttonEl =\n",
              "        document.querySelector('#df-0abbe4ca-07dc-44ba-8767-3fc353c66eb0 button.colab-df-convert');\n",
              "      buttonEl.style.display =\n",
              "        google.colab.kernel.accessAllowed ? 'block' : 'none';\n",
              "\n",
              "      async function convertToInteractive(key) {\n",
              "        const element = document.querySelector('#df-0abbe4ca-07dc-44ba-8767-3fc353c66eb0');\n",
              "        const dataTable =\n",
              "          await google.colab.kernel.invokeFunction('convertToInteractive',\n",
              "                                                    [key], {});\n",
              "        if (!dataTable) return;\n",
              "\n",
              "        const docLinkHtml = 'Like what you see? Visit the ' +\n",
              "          '<a target=\"_blank\" href=https://colab.research.google.com/notebooks/data_table.ipynb>data table notebook</a>'\n",
              "          + ' to learn more about interactive tables.';\n",
              "        element.innerHTML = '';\n",
              "        dataTable['output_type'] = 'display_data';\n",
              "        await google.colab.output.renderOutput(dataTable, element);\n",
              "        const docLink = document.createElement('div');\n",
              "        docLink.innerHTML = docLinkHtml;\n",
              "        element.appendChild(docLink);\n",
              "      }\n",
              "    </script>\n",
              "  </div>\n",
              "\n",
              "\n",
              "    <div id=\"df-5982b4b4-be59-4727-a00e-a199ee5ca923\">\n",
              "      <button class=\"colab-df-quickchart\" onclick=\"quickchart('df-5982b4b4-be59-4727-a00e-a199ee5ca923')\"\n",
              "                title=\"Suggest charts\"\n",
              "                style=\"display:none;\">\n",
              "\n",
              "<svg xmlns=\"http://www.w3.org/2000/svg\" height=\"24px\"viewBox=\"0 0 24 24\"\n",
              "     width=\"24px\">\n",
              "    <g>\n",
              "        <path d=\"M19 3H5c-1.1 0-2 .9-2 2v14c0 1.1.9 2 2 2h14c1.1 0 2-.9 2-2V5c0-1.1-.9-2-2-2zM9 17H7v-7h2v7zm4 0h-2V7h2v10zm4 0h-2v-4h2v4z\"/>\n",
              "    </g>\n",
              "</svg>\n",
              "      </button>\n",
              "\n",
              "<style>\n",
              "  .colab-df-quickchart {\n",
              "      --bg-color: #E8F0FE;\n",
              "      --fill-color: #1967D2;\n",
              "      --hover-bg-color: #E2EBFA;\n",
              "      --hover-fill-color: #174EA6;\n",
              "      --disabled-fill-color: #AAA;\n",
              "      --disabled-bg-color: #DDD;\n",
              "  }\n",
              "\n",
              "  [theme=dark] .colab-df-quickchart {\n",
              "      --bg-color: #3B4455;\n",
              "      --fill-color: #D2E3FC;\n",
              "      --hover-bg-color: #434B5C;\n",
              "      --hover-fill-color: #FFFFFF;\n",
              "      --disabled-bg-color: #3B4455;\n",
              "      --disabled-fill-color: #666;\n",
              "  }\n",
              "\n",
              "  .colab-df-quickchart {\n",
              "    background-color: var(--bg-color);\n",
              "    border: none;\n",
              "    border-radius: 50%;\n",
              "    cursor: pointer;\n",
              "    display: none;\n",
              "    fill: var(--fill-color);\n",
              "    height: 32px;\n",
              "    padding: 0;\n",
              "    width: 32px;\n",
              "  }\n",
              "\n",
              "  .colab-df-quickchart:hover {\n",
              "    background-color: var(--hover-bg-color);\n",
              "    box-shadow: 0 1px 2px rgba(60, 64, 67, 0.3), 0 1px 3px 1px rgba(60, 64, 67, 0.15);\n",
              "    fill: var(--button-hover-fill-color);\n",
              "  }\n",
              "\n",
              "  .colab-df-quickchart-complete:disabled,\n",
              "  .colab-df-quickchart-complete:disabled:hover {\n",
              "    background-color: var(--disabled-bg-color);\n",
              "    fill: var(--disabled-fill-color);\n",
              "    box-shadow: none;\n",
              "  }\n",
              "\n",
              "  .colab-df-spinner {\n",
              "    border: 2px solid var(--fill-color);\n",
              "    border-color: transparent;\n",
              "    border-bottom-color: var(--fill-color);\n",
              "    animation:\n",
              "      spin 1s steps(1) infinite;\n",
              "  }\n",
              "\n",
              "  @keyframes spin {\n",
              "    0% {\n",
              "      border-color: transparent;\n",
              "      border-bottom-color: var(--fill-color);\n",
              "      border-left-color: var(--fill-color);\n",
              "    }\n",
              "    20% {\n",
              "      border-color: transparent;\n",
              "      border-left-color: var(--fill-color);\n",
              "      border-top-color: var(--fill-color);\n",
              "    }\n",
              "    30% {\n",
              "      border-color: transparent;\n",
              "      border-left-color: var(--fill-color);\n",
              "      border-top-color: var(--fill-color);\n",
              "      border-right-color: var(--fill-color);\n",
              "    }\n",
              "    40% {\n",
              "      border-color: transparent;\n",
              "      border-right-color: var(--fill-color);\n",
              "      border-top-color: var(--fill-color);\n",
              "    }\n",
              "    60% {\n",
              "      border-color: transparent;\n",
              "      border-right-color: var(--fill-color);\n",
              "    }\n",
              "    80% {\n",
              "      border-color: transparent;\n",
              "      border-right-color: var(--fill-color);\n",
              "      border-bottom-color: var(--fill-color);\n",
              "    }\n",
              "    90% {\n",
              "      border-color: transparent;\n",
              "      border-bottom-color: var(--fill-color);\n",
              "    }\n",
              "  }\n",
              "</style>\n",
              "\n",
              "      <script>\n",
              "        async function quickchart(key) {\n",
              "          const quickchartButtonEl =\n",
              "            document.querySelector('#' + key + ' button');\n",
              "          quickchartButtonEl.disabled = true;  // To prevent multiple clicks.\n",
              "          quickchartButtonEl.classList.add('colab-df-spinner');\n",
              "          try {\n",
              "            const charts = await google.colab.kernel.invokeFunction(\n",
              "                'suggestCharts', [key], {});\n",
              "          } catch (error) {\n",
              "            console.error('Error during call to suggestCharts:', error);\n",
              "          }\n",
              "          quickchartButtonEl.classList.remove('colab-df-spinner');\n",
              "          quickchartButtonEl.classList.add('colab-df-quickchart-complete');\n",
              "        }\n",
              "        (() => {\n",
              "          let quickchartButtonEl =\n",
              "            document.querySelector('#df-5982b4b4-be59-4727-a00e-a199ee5ca923 button');\n",
              "          quickchartButtonEl.style.display =\n",
              "            google.colab.kernel.accessAllowed ? 'block' : 'none';\n",
              "        })();\n",
              "      </script>\n",
              "    </div>\n",
              "\n",
              "    </div>\n",
              "  </div>\n"
            ],
            "application/vnd.google.colaboratory.intrinsic+json": {
              "type": "dataframe",
              "variable_name": "df",
              "summary": "{\n  \"name\": \"df\",\n  \"rows\": 11,\n  \"fields\": [\n    {\n      \"column\": \"Platform\",\n      \"properties\": {\n        \"dtype\": \"string\",\n        \"num_unique_values\": 11,\n        \"samples\": [\n          \"WhatsApp\",\n          \"Facebook\",\n          \"BeReal\"\n        ],\n        \"semantic_type\": \"\",\n        \"description\": \"\"\n      }\n    },\n    {\n      \"column\": \"Yes, use this\",\n      \"properties\": {\n        \"dtype\": \"number\",\n        \"std\": 23,\n        \"min\": 4,\n        \"max\": 87,\n        \"num_unique_values\": 9,\n        \"samples\": [\n          34,\n          87,\n          31\n        ],\n        \"semantic_type\": \"\",\n        \"description\": \"\"\n      }\n    },\n    {\n      \"column\": \"No, don't use this\",\n      \"properties\": {\n        \"dtype\": \"number\",\n        \"std\": 22,\n        \"min\": 12,\n        \"max\": 93,\n        \"num_unique_values\": 10,\n        \"samples\": [\n          63,\n          12,\n          67\n        ],\n        \"semantic_type\": \"\",\n        \"description\": \"\"\n      }\n    },\n    {\n      \"column\": \"No answer\",\n      \"properties\": {\n        \"dtype\": \"number\",\n        \"std\": 0,\n        \"min\": 1,\n        \"max\": 3,\n        \"num_unique_values\": 3,\n        \"samples\": [\n          1,\n          3,\n          2\n        ],\n        \"semantic_type\": \"\",\n        \"description\": \"\"\n      }\n    },\n    {\n      \"column\": \"Month\",\n      \"properties\": {\n        \"dtype\": \"category\",\n        \"num_unique_values\": 1,\n        \"samples\": [\n          \"May-Sep\"\n        ],\n        \"semantic_type\": \"\",\n        \"description\": \"\"\n      }\n    },\n    {\n      \"column\": \"Year\",\n      \"properties\": {\n        \"dtype\": \"number\",\n        \"std\": 0,\n        \"min\": 2023,\n        \"max\": 2023,\n        \"num_unique_values\": 1,\n        \"samples\": [\n          2023\n        ],\n        \"semantic_type\": \"\",\n        \"description\": \"\"\n      }\n    }\n  ]\n}"
            }
          },
          "metadata": {},
          "execution_count": 2
        }
      ],
      "source": [
        "df = pd.read_csv(\"Social_Media_Usage_-_May_to_Sep_2023.csv\")\n",
        "df.head()"
      ]
    },
    {
      "cell_type": "markdown",
      "source": [
        "### Task 2\n",
        "Run the code below to create a horizontal bar chart of the values in the column `Yes, use this`."
      ],
      "metadata": {
        "id": "mLInwDVPDGUk"
      }
    },
    {
      "cell_type": "code",
      "execution_count": null,
      "metadata": {
        "id": "VV5mKnCLADLq",
        "colab": {
          "base_uri": "https://localhost:8080/",
          "height": 695
        },
        "outputId": "1df6eca0-0a8a-449e-d0c7-7434637c4335"
      },
      "outputs": [
        {
          "output_type": "display_data",
          "data": {
            "text/plain": [
              "<Figure size 700x700 with 1 Axes>"
            ],
            "image/png": "[encoded data removed]"
          },
          "metadata": {}
        }
      ],
      "source": [
        "with plt.style.context('fivethirtyeight'):\n",
        "\n",
        "    # Sort data in ascending order\n",
        "    df_sorted = df.sort_values(\"Yes, use this\", ascending=False)\n",
        "\n",
        "    # Plot\n",
        "    plt.figure(figsize=(7, 7))\n",
        "    ax = sns.barplot(y=\"Platform\", x=\"Yes, use this\", data=df_sorted)\n",
        "\n",
        "    # Add percentage labels\n",
        "    for i in ax.patches:\n",
        "        ax.text(i.get_width() + 1, i.get_y() + i.get_height() / 2,\n",
        "                f'{i.get_width():.0f}%', va='center')\n",
        "\n",
        "    plt.title(\"Social Media Platform Usage (2023)\")\n",
        "    plt.xlabel(\"Percentage (%)\")\n",
        "    # plt.ylabel(\"Platform\")\n",
        "    plt.xlim(0, 100)\n",
        "    plt.tight_layout()\n",
        "    plt.show()"
      ]
    },
    {
      "cell_type": "markdown",
      "source": [
        "### Task 3\n",
        "\n",
        "We will now create a vertical stacked bar chart.\n",
        "\n",
        "The code below reads in as a DataFrame the file `Internet_Usage_Frequency_Trend.csv`. It then adds a new column `Other` where for each row, the value of the new column is the difference between 100 and the sum of the other columns in the DataFrame (`'Almost constantly', 'Several times a day', 'About once a day', 'Several times a week', 'Less often'`). This new column will be useful for the stacked bar chart to \"fill in\" the remaining area of the chart."
      ],
      "metadata": {
        "id": "NvvWH2oHJNGb"
      }
    },
    {
      "cell_type": "code",
      "execution_count": null,
      "metadata": {
        "id": "hJLASVt2ADLq"
      },
      "outputs": [],
      "source": [
        "df_frequency = pd.read_csv(\"Internet_Usage_Frequency_Trend.csv\")\n",
        "df_frequency[\"Other\"] = 100 - df_frequency[['Almost constantly', 'Several times a day', 'About once a day',\n",
        "       'Several times a week', 'Less often']].sum(axis=1)\n",
        "df_frequency.head()"
      ]
    },
    {
      "cell_type": "markdown",
      "source": [
        "### Task 4\n",
        "\n",
        "The code below plots the vertical stacked bar chart.\n",
        "\n",
        "The code first sorts the DataFrame `df_frequency` by the column `Year` and then set `Year` as the index, so that we can plot the bar chart using Year as our x-axis.\n",
        "\n",
        "The code then generates the stacked bar plot by setting `stacked=True` in the `.plot()` function. We also make the plot easier to read by adding some parameters:\n",
        "- Title = \"Stacked Internet Usage Frequency by Year\"\n",
        "- X-axis label = \"Year\"\n",
        "- Y-axis label = \"Average Percentage (%)\"\n",
        "- Legend = upper left, with title of \"Frequency\""
      ],
      "metadata": {
        "id": "FsfL6oLJM25i"
      }
    },
    {
      "cell_type": "code",
      "execution_count": null,
      "metadata": {
        "id": "NOSb8iyUADLq"
      },
      "outputs": [],
      "source": [
        "with plt.style.context('fivethirtyeight'):\n",
        "\n",
        "    # Group by Year and compute average for each category\n",
        "    df_frequency = df_frequency.sort_values(\"Year\", ascending=True)\n",
        "\n",
        "    df_frequency.set_index(\"Year\", inplace=True)\n",
        "\n",
        "    # Create stacked bar plot\n",
        "    ax = df_frequency.plot(kind='bar', stacked=True, figsize=(10, 6))\n",
        "    plt.title(\"Stacked Internet Usage Frequency by Year\")\n",
        "    plt.xlabel(\"Year\")\n",
        "    plt.ylabel(\"Average Percentage (%)\")\n",
        "    plt.legend(title=\"Frequency\", bbox_to_anchor=(1.05, 1), loc='upper left')\n",
        "    plt.tight_layout()\n",
        "    plt.show()"
      ]
    },
    {
      "cell_type": "markdown",
      "metadata": {
        "id": "dDr9LJPhADLq"
      },
      "source": [
        "## 📈 2. **Line Chart**\n",
        "Now that we've made bar charts, let's move to line charts. Line charts have the following characteristics:\n",
        "- **Use for:** Showing trends over time (time series).\n",
        "- **Best for:** Stock prices, temperature changes, revenue over months."
      ]
    },
    {
      "cell_type": "markdown",
      "source": [
        "### Task 1\n",
        "Let's first read in the file `Internet_Usage_Trend_with_Separated_Date.csv` as a DataFrame and name it as `df_usage`.\n",
        "\n",
        "Feel free to use the `.head()` function to observe the first few rows of your DataFrame."
      ],
      "metadata": {
        "id": "57r-90RWHqM6"
      }
    },
    {
      "cell_type": "code",
      "source": [
        "df_usage = pd.read_csv(\"Internet_Usage_Trend_with_Separated_Date.csv\")\n",
        "df_usage.head()"
      ],
      "metadata": {
        "id": "O8GC8VYOFJvQ"
      },
      "execution_count": null,
      "outputs": []
    },
    {
      "cell_type": "markdown",
      "source": [
        "### Task 2\n",
        "\n",
        "Write the appropriate code in the following code prompts (`TODO`) to create the line chart.\n",
        "\n",
        "The first prompt is to group the DataFrame by `Year` and compute each group's average value of the `Uses internet` column by using the `.agg()` function. Since you've grouped the data, don't forget to reset the index! Name this grouped DataFrame `df_usage_yearly`.\n",
        "\n",
        "The second prompt is to generate the line chart. Use `Year` as the x-axis and `Uses nternet` as the y-axis. Make the color of the line `blue`. Add a title and axis labels: \"Percentage of People Using Internet\" as the title, \"Year\" as the x-axis label, and \"Percentage (%)\" as the y-label. To make it even prettier, you can set the y-axis limits to `(0,100)`."
      ],
      "metadata": {
        "id": "o5vhh6KdH2US"
      }
    },
    {
      "cell_type": "code",
      "execution_count": null,
      "metadata": {
        "id": "wQuMiSuHADLq"
      },
      "outputs": [],
      "source": [
        "with plt.style.context('fivethirtyeight'):\n",
        "\n",
        "    df_usage_yearly = df_usage.groupby(\"Year\").agg({\"Uses internet\":\"mean\"}).reset_index()\n",
        "\n",
        "    sns.lineplot(df_usage_yearly, x='Year', y='Uses internet', color='blue')\n",
        "    plt.title(\"Percentage of People Using Internet\")\n",
        "    plt.xlabel(\"Year\")\n",
        "    plt.ylim(0,100)\n",
        "    plt.ylabel(\"Percentage (%)\")"
      ]
    },
    {
      "cell_type": "markdown",
      "source": [
        "### Task 3\n",
        "\n",
        "Let's now plot line charts of the . Let's first read in the file `Historical_Social_Media_Usage` as a DataFrame and name it as df_historical.\n",
        "\n",
        "Group the DataFrame by `Platform` and `Year`, then compute each group's average value of the `Yes, use this` column by using the `.agg()` function. Since you've grouped the data, don't forget to reset the index!\n",
        "\n",
        "Feel free to use the `.head()` function to observe the first few rows of your newly-aggregated DataFrame."
      ],
      "metadata": {
        "id": "mWKsQxxDEtoi"
      }
    },
    {
      "cell_type": "code",
      "execution_count": null,
      "metadata": {
        "id": "0YppzHJbADLq"
      },
      "outputs": [],
      "source": [
        "df_historical = pd.read_csv(\"Historical_Social_Media_Usage.csv\")\n",
        "df_historical = df_historical.groupby([\"Platform\", \"Year\"]).agg({\"Yes, use this\": \"mean\"}).reset_index()\n",
        "df_historical.head()"
      ]
    },
    {
      "cell_type": "markdown",
      "source": [
        "### Task 4\n",
        "\n",
        "Let's now plot a multi-line line chart by completing the code prompts (`TODO`) below.\n",
        "\n",
        "The first prompt asks to create subplots using the `plt.subplots` function, with a figure size of `(10,6)`.\n",
        "\n",
        "The second prompt asks to set the various labels for the plot:\n",
        "- Title = \"Platform Usage Over the Years\"\n",
        "- X-axis = \"Year\"\n",
        "- Y-axis = \"Percentage (%)\"\n",
        "- Legend = title of \"Platform, location in upper left"
      ],
      "metadata": {
        "id": "ctRiJhH5NiCw"
      }
    },
    {
      "cell_type": "code",
      "execution_count": null,
      "metadata": {
        "id": "-kiiiNH9ADLq"
      },
      "outputs": [],
      "source": [
        "with plt.style.context('fivethirtyeight'):\n",
        "    fig, ax = plt.subplots(figsize=(10, 6))\n",
        "    palette_11 = sns.color_palette(\"tab10\") + sns.color_palette(\"Set3\", n_colors=1)\n",
        "    sns.lineplot(\n",
        "        data=df_historical,\n",
        "        x=\"Year\", y=\"Yes, use this\",\n",
        "        marker=\"o\", ax=ax, palette=palette_11, hue=\"Platform\")\n",
        "\n",
        "    plt.title(\"Platform Usage Over the Years\")\n",
        "    plt.xlabel(\"Year\")\n",
        "    plt.ylabel(\"Percentage (%)\")\n",
        "    # plt.xticks(rotation=45)\n",
        "    # plt.grid()\n",
        "    plt.legend(title=\"Platform\", bbox_to_anchor=(1.05, 1), loc='upper left')\n",
        "    plt.tight_layout()\n",
        "    plt.show()"
      ]
    },
    {
      "cell_type": "markdown",
      "metadata": {
        "id": "obfBiPNfADLq"
      },
      "source": [
        "## 🥧 3. **Pie Chart**\n",
        "The next chart we will make is a pie chart. Pie charts have the following characteristics:\n",
        "- **Use for:** Showing proportions or percentage breakdowns.\n",
        "- **Best for:** Market share, budget allocation.\n",
        "- **Note:** Avoid when there are many categories or similar-sized slices—can be hard to read."
      ]
    },
    {
      "cell_type": "markdown",
      "source": [
        "### Task 1\n",
        "\n",
        "Using the `df_usage` DataFrame from earlier, we will create a pie chart by writing in the code prompts (`TODO`) below.\n",
        "\n",
        "The first prompt asks to filter `df_usage` to only those rows where the `Year` is 2023 and to select only the columns `Uses internet` and `Does not use internet` to create a filtered, subset DataFrame. Name this filtered DataFrame as `df_usage_2023`.\n",
        "\n",
        "The second prompt asks to generate the pie chart using the `plt.pie()` function. Make sure to use the column names of `df_usage_2023` as the pie chart labels. Name the chart \"Reported Internet Usage in 2023\"."
      ],
      "metadata": {
        "id": "aq11rbNSKOK3"
      }
    },
    {
      "cell_type": "code",
      "execution_count": null,
      "metadata": {
        "id": "l7MSq23OADLq"
      },
      "outputs": [],
      "source": [
        "with plt.style.context('fivethirtyeight'):\n",
        "    plt.figure(figsize=(5, 5))\n",
        "    internet_usage_2023 = df_usage[df_usage[\"Year\"] == 2023]\n",
        "    internet_usage_2023 = internet_usage_2023.iloc[:, 2:4]\n",
        "\n",
        "    plt.pie(\n",
        "        internet_usage_2023.iloc[:].values[0],\n",
        "        labels=internet_usage_2023.columns.tolist(),\n",
        "        autopct='%1.1f%%', startangle=140)\n",
        "    plt.title(\"Reported Internet Usage in 2023\")\n",
        "    plt.axis('equal')\n",
        "\n",
        "    plt.show()"
      ]
    },
    {
      "cell_type": "markdown",
      "metadata": {
        "id": "sjPSOTY5ADLq"
      },
      "source": [
        "## 📉 4. **Area Chart**\n",
        "\n",
        "Finally, we generate an area chart. Area charts have the following characteristics:\n",
        "\n",
        "- **Use for:** Showing cumulative trends over time.\n",
        "- **Similar to:** Line chart, but filled with color under the line.\n",
        "- **Best for:** Total values over time (e.g., website traffic from multiple sources)."
      ]
    },
    {
      "cell_type": "markdown",
      "source": [
        "### Task 1\n",
        "\n",
        "Use the DataFrame `df_frequency` from earlier to generate an area chart by following the code prompts (`TODO`) below.\n",
        "\n",
        "The first code prompt asks to generate the area chart; make sure to set the `kind` argument to `area` and the `stacked` argument to `True`.\n",
        "\n",
        "The second code prompt asks to put the appropriate labels on the chart:\n",
        "- Title = \"Stacked Internet Usage Frequency by Year\"\n",
        "- X-label = \"Year\"\n",
        "- Y-label = \"Average Percentage (%)\"\n",
        "- Legend = title of \"Frequency\" and location of upper left"
      ],
      "metadata": {
        "id": "i-dqGzdRLQWk"
      }
    },
    {
      "cell_type": "code",
      "execution_count": null,
      "metadata": {
        "id": "Yjv5iaz0ADLq"
      },
      "outputs": [],
      "source": [
        "with plt.style.context('fivethirtyeight'):\n",
        "    # Create stacked bar plot\n",
        "    ax = df_frequency.plot(kind='area', stacked=True, figsize=(10, 6))\n",
        "    plt.title(\"Stacked Internet Usage Frequency by Year\")\n",
        "    plt.xlabel(\"Year\")\n",
        "    plt.ylabel(\"Average Percentage (%)\")\n",
        "    plt.legend(title=\"Frequency\", bbox_to_anchor=(1.05, 1), loc='upper left')\n",
        "    plt.tight_layout()\n",
        "    plt.show()"
      ]
    },
    {
      "cell_type": "code",
      "execution_count": null,
      "metadata": {
        "id": "LhMm0X1xADLq"
      },
      "outputs": [],
      "source": []
    }
  ],
  "metadata": {
    "kernelspec": {
      "display_name": ".venv",
      "language": "python",
      "name": "python3"
    },
    "language_info": {
      "codemirror_mode": {
        "name": "ipython",
        "version": 3
      },
      "file_extension": ".py",
      "mimetype": "text/x-python",
      "name": "python",
      "nbconvert_exporter": "python",
      "pygments_lexer": "ipython3",
      "version": "3.12.0"
    },
    "colab": {
      "provenance": [],
      "include_colab_link": true
    }
  },
  "nbformat": 4,
  "nbformat_minor": 0
}